{
  "cells": [
    {
      "cell_type": "markdown",
      "metadata": {
        "id": "view-in-github",
        "colab_type": "text"
      },
      "source": [
        "<a href=\"https://colab.research.google.com/github/Syruna/2024_Geoinformatique_I/blob/main/Geoinformatique_I/IP/Exercices_IP/S5_IP_exercice.ipynb\" target=\"_parent\"><img src=\"https://colab.research.google.com/assets/colab-badge.svg\" alt=\"Open In Colab\"/></a>"
      ]
    },
    {
      "cell_type": "markdown",
      "metadata": {
        "id": "RI1rTGlgoV4A"
      },
      "source": [
        "# Exercice 5 - Bonnes pratiques de programmation"
      ]
    },
    {
      "cell_type": "markdown",
      "metadata": {
        "id": "OvE4429HIVh6"
      },
      "source": [
        "## Classes"
      ]
    },
    {
      "cell_type": "markdown",
      "metadata": {
        "id": "6FFNw8SuIVh7"
      },
      "source": [
        "**Q1) Ecrivez une classe `planet` avec deux attributs : `nom` et `masse`**"
      ]
    },
    {
      "cell_type": "code",
      "execution_count": 5,
      "metadata": {
        "id": "Uw7xNd_UIVh7"
      },
      "outputs": [],
      "source": [
        "# Écrivez votre classe ici\n",
        "class planet:\n",
        "  def __init__(self,inname,inmass):\n",
        "    self.name = inname\n",
        "    self.mass = inmass\n",
        "# Créer une nouvelle instance de cette classe pour représenter la Terre (masse=5,97)\n",
        "terre = planet(\"terre\",5.97)\n",
        "# Créer une nouvelle instance de cette classe pour représenter Jupiter (masse=1898)\n",
        "jupiter = planet(\"jupiter\",1898)"
      ]
    },
    {
      "cell_type": "code",
      "execution_count": 6,
      "metadata": {
        "id": "6YJdxwZ6IVh9",
        "outputId": "9d04437e-80fb-4732-a900-eddd36a35b14",
        "colab": {
          "base_uri": "https://localhost:8080/"
        }
      },
      "outputs": [
        {
          "output_type": "stream",
          "name": "stdout",
          "text": [
            "terre 5.97\n"
          ]
        }
      ],
      "source": [
        "# Comment vérifier que vous avez fait le bon choix ?\n",
        "print(terre.name,terre.mass)"
      ]
    },
    {
      "cell_type": "markdown",
      "metadata": {
        "id": "EyKzcJevIVh-"
      },
      "source": [
        "**Q2) Ajouter une méthode personnalisée `is_light` à la classe `planet` qui retourne `True` si la planète est strictement plus légère que Jupiter, `False` strictement plus lourde que Jupiter, et 'same mass!' si la planète pèse le même poids que Jupiter**."
      ]
    },
    {
      "cell_type": "code",
      "execution_count": 10,
      "metadata": {
        "id": "M4vzMy4ZIVh-",
        "outputId": "313ea89b-a497-4b1a-fd52-80185f124c36",
        "colab": {
          "base_uri": "https://localhost:8080/"
        }
      },
      "outputs": [
        {
          "output_type": "stream",
          "name": "stdout",
          "text": [
            "True\n",
            "même masse!\n"
          ]
        }
      ],
      "source": [
        "# Changez votre classe ici\n",
        "class planet :\n",
        "  def __init__(self,inname,inmass):\n",
        "    self.name = inname\n",
        "    self.mass = inmass\n",
        "  def is_light(self) :\n",
        "    if self.mass<1898:\n",
        "      print('True')\n",
        "    elif self.mass>1898:\n",
        "      print('False')\n",
        "    else :\n",
        "      print('même masse!')\n",
        "\n",
        "\n",
        "# Demandez à Python si la Terre est plus légère que Jupiter, vous devriez voir True pour cette question !\n",
        "planet(\"terre\",5.97).is_light()\n",
        "# Demandez à Python si Jupiter est plus léger qu'elle-même, vous devriez voir same mass ! pour celle-ci !\n",
        "planet(\"jupiter\",1898).is_light()"
      ]
    }
  ],
  "metadata": {
    "colab": {
      "provenance": [],
      "include_colab_link": true
    },
    "kernelspec": {
      "display_name": "JupyterBook",
      "language": "python",
      "name": "python3"
    },
    "language_info": {
      "codemirror_mode": {
        "name": "ipython",
        "version": 3
      },
      "file_extension": ".py",
      "mimetype": "text/x-python",
      "name": "python",
      "nbconvert_exporter": "python",
      "pygments_lexer": "ipython3",
      "version": "3.12.0"
    }
  },
  "nbformat": 4,
  "nbformat_minor": 0
}